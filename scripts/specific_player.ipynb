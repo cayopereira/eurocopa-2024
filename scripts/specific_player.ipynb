{
 "cells": [
  {
   "cell_type": "markdown",
   "id": "2e3464c9",
   "metadata": {},
   "source": [
    "# Analisando um jogador especifico\n",
    "\n"
   ]
  },
  {
   "cell_type": "code",
   "execution_count": 196,
   "id": "4d9b09ef",
   "metadata": {},
   "outputs": [],
   "source": [
    "from statsbombpy import sb\n",
    "import pandas as pd\n",
    "from mplsoccer import VerticalPitch,Pitch\n",
    "from highlight_text import ax_text, fig_text\n",
    "from matplotlib.colors import LinearSegmentedColormap\n",
    "import matplotlib.pyplot as plt\n",
    "import matplotlib.patheffects as path_effects\n",
    "import seaborn as sns\n",
    "from functools import reduce"
   ]
  },
  {
   "cell_type": "code",
   "execution_count": 197,
   "id": "860875cf",
   "metadata": {},
   "outputs": [
    {
     "data": {
      "text/html": [
       "<div>\n",
       "<style scoped>\n",
       "    .dataframe tbody tr th:only-of-type {\n",
       "        vertical-align: middle;\n",
       "    }\n",
       "\n",
       "    .dataframe tbody tr th {\n",
       "        vertical-align: top;\n",
       "    }\n",
       "\n",
       "    .dataframe thead th {\n",
       "        text-align: right;\n",
       "    }\n",
       "</style>\n",
       "<table border=\"1\" class=\"dataframe\">\n",
       "  <thead>\n",
       "    <tr style=\"text-align: right;\">\n",
       "      <th></th>\n",
       "      <th>competition_id</th>\n",
       "      <th>season_id</th>\n",
       "      <th>country_name</th>\n",
       "      <th>competition_name</th>\n",
       "      <th>competition_gender</th>\n",
       "      <th>competition_youth</th>\n",
       "      <th>competition_international</th>\n",
       "      <th>season_name</th>\n",
       "      <th>match_updated</th>\n",
       "      <th>match_updated_360</th>\n",
       "      <th>match_available_360</th>\n",
       "      <th>match_available</th>\n",
       "    </tr>\n",
       "  </thead>\n",
       "  <tbody>\n",
       "    <tr>\n",
       "      <th>21</th>\n",
       "      <td>223</td>\n",
       "      <td>282</td>\n",
       "      <td>South America</td>\n",
       "      <td>Copa America</td>\n",
       "      <td>male</td>\n",
       "      <td>False</td>\n",
       "      <td>True</td>\n",
       "      <td>2024</td>\n",
       "      <td>2024-07-15T18:00:33.653673</td>\n",
       "      <td>None</td>\n",
       "      <td>None</td>\n",
       "      <td>2024-07-15T18:00:33.653673</td>\n",
       "    </tr>\n",
       "  </tbody>\n",
       "</table>\n",
       "</div>"
      ],
      "text/plain": [
       "    competition_id  season_id   country_name competition_name  \\\n",
       "21             223        282  South America     Copa America   \n",
       "\n",
       "   competition_gender  competition_youth  competition_international  \\\n",
       "21               male              False                       True   \n",
       "\n",
       "   season_name               match_updated match_updated_360  \\\n",
       "21        2024  2024-07-15T18:00:33.653673              None   \n",
       "\n",
       "   match_available_360             match_available  \n",
       "21                None  2024-07-15T18:00:33.653673  "
      ]
     },
     "execution_count": 197,
     "metadata": {},
     "output_type": "execute_result"
    }
   ],
   "source": [
    "# Competições\n",
    "sb.competitions().query('country_name.str.contains(\"South America\", case=False)').sort_values(by='match_updated', ascending=False)\n"
   ]
  },
  {
   "cell_type": "code",
   "execution_count": 198,
   "id": "2a7f72b2",
   "metadata": {},
   "outputs": [
    {
     "data": {
      "text/plain": [
       "array(['Germany', 'Africa', 'Europe', 'South America', 'Spain', 'England',\n",
       "       'International', 'India', 'Argentina', 'France',\n",
       "       'United States of America', 'North and Central America', 'Italy'],\n",
       "      dtype=object)"
      ]
     },
     "execution_count": 198,
     "metadata": {},
     "output_type": "execute_result"
    }
   ],
   "source": [
    "sb.competitions()['country_name'].unique()"
   ]
  },
  {
   "cell_type": "code",
   "execution_count": 199,
   "id": "8f19fd59",
   "metadata": {},
   "outputs": [],
   "source": [
    "euro_2024_matches = sb.matches(competition_id=55, season_id=282)"
   ]
  },
  {
   "cell_type": "code",
   "execution_count": 200,
   "id": "d0d61e28",
   "metadata": {},
   "outputs": [],
   "source": [
    "# função para pegar as partidas de um time específico\n",
    "\n",
    "def team_matches(team, df_matches):\n",
    "    team_matches = df_matches.query((f'home_team == \"{team}\" or away_team == \"{team}\"'))\n",
    "    return team_matches.sort_values(by='match_date', ascending=False)"
   ]
  },
  {
   "cell_type": "code",
   "execution_count": 201,
   "id": "a52c117c",
   "metadata": {},
   "outputs": [],
   "source": [
    "team = \"Netherlands\"\n",
    "df_matches = sb.matches(competition_id=55, season_id=282) # partidas da eurocopa 2024\n",
    "\n",
    "team_matches = team_matches(team, df_matches)"
   ]
  },
  {
   "cell_type": "code",
   "execution_count": 202,
   "id": "ce8f2806",
   "metadata": {},
   "outputs": [
    {
     "data": {
      "text/html": [
       "<div>\n",
       "<style scoped>\n",
       "    .dataframe tbody tr th:only-of-type {\n",
       "        vertical-align: middle;\n",
       "    }\n",
       "\n",
       "    .dataframe tbody tr th {\n",
       "        vertical-align: top;\n",
       "    }\n",
       "\n",
       "    .dataframe thead th {\n",
       "        text-align: right;\n",
       "    }\n",
       "</style>\n",
       "<table border=\"1\" class=\"dataframe\">\n",
       "  <thead>\n",
       "    <tr style=\"text-align: right;\">\n",
       "      <th></th>\n",
       "      <th>match_id</th>\n",
       "      <th>match_date</th>\n",
       "      <th>kick_off</th>\n",
       "      <th>competition</th>\n",
       "      <th>season</th>\n",
       "      <th>home_team</th>\n",
       "      <th>away_team</th>\n",
       "      <th>home_score</th>\n",
       "      <th>away_score</th>\n",
       "      <th>match_status</th>\n",
       "      <th>...</th>\n",
       "      <th>last_updated_360</th>\n",
       "      <th>match_week</th>\n",
       "      <th>competition_stage</th>\n",
       "      <th>stadium</th>\n",
       "      <th>referee</th>\n",
       "      <th>home_managers</th>\n",
       "      <th>away_managers</th>\n",
       "      <th>data_version</th>\n",
       "      <th>shot_fidelity_version</th>\n",
       "      <th>xy_fidelity_version</th>\n",
       "    </tr>\n",
       "  </thead>\n",
       "  <tbody>\n",
       "    <tr>\n",
       "      <th>0</th>\n",
       "      <td>3942819</td>\n",
       "      <td>2024-07-10</td>\n",
       "      <td>22:00:00.000</td>\n",
       "      <td>Europe - UEFA Euro</td>\n",
       "      <td>2024</td>\n",
       "      <td>Netherlands</td>\n",
       "      <td>England</td>\n",
       "      <td>1</td>\n",
       "      <td>2</td>\n",
       "      <td>available</td>\n",
       "      <td>...</td>\n",
       "      <td>2024-07-15T07:57:36.684453</td>\n",
       "      <td>6</td>\n",
       "      <td>Semi-finals</td>\n",
       "      <td>Signal-Iduna-Park</td>\n",
       "      <td>Felix Zwayer</td>\n",
       "      <td>Ronald Koeman</td>\n",
       "      <td>Gareth Southgate</td>\n",
       "      <td>1.1.0</td>\n",
       "      <td>2</td>\n",
       "      <td>2</td>\n",
       "    </tr>\n",
       "    <tr>\n",
       "      <th>3</th>\n",
       "      <td>3942382</td>\n",
       "      <td>2024-07-06</td>\n",
       "      <td>22:00:00.000</td>\n",
       "      <td>Europe - UEFA Euro</td>\n",
       "      <td>2024</td>\n",
       "      <td>Netherlands</td>\n",
       "      <td>Turkey</td>\n",
       "      <td>2</td>\n",
       "      <td>1</td>\n",
       "      <td>available</td>\n",
       "      <td>...</td>\n",
       "      <td>2024-07-10T06:56:35.146850</td>\n",
       "      <td>5</td>\n",
       "      <td>Quarter-finals</td>\n",
       "      <td>Olympiastadion Berlin</td>\n",
       "      <td>Clément Turpin</td>\n",
       "      <td>Ronald Koeman</td>\n",
       "      <td>Vincenzo Montella</td>\n",
       "      <td>1.1.0</td>\n",
       "      <td>2</td>\n",
       "      <td>2</td>\n",
       "    </tr>\n",
       "    <tr>\n",
       "      <th>12</th>\n",
       "      <td>3941021</td>\n",
       "      <td>2024-07-02</td>\n",
       "      <td>19:00:00.000</td>\n",
       "      <td>Europe - UEFA Euro</td>\n",
       "      <td>2024</td>\n",
       "      <td>Romania</td>\n",
       "      <td>Netherlands</td>\n",
       "      <td>0</td>\n",
       "      <td>3</td>\n",
       "      <td>available</td>\n",
       "      <td>...</td>\n",
       "      <td>2024-07-12T23:28:27.122555</td>\n",
       "      <td>4</td>\n",
       "      <td>Round of 16</td>\n",
       "      <td>Allianz Arena</td>\n",
       "      <td>Felix Zwayer</td>\n",
       "      <td>Edward Iordănescu</td>\n",
       "      <td>Ronald Koeman</td>\n",
       "      <td>1.1.0</td>\n",
       "      <td>2</td>\n",
       "      <td>2</td>\n",
       "    </tr>\n",
       "    <tr>\n",
       "      <th>5</th>\n",
       "      <td>3930180</td>\n",
       "      <td>2024-06-25</td>\n",
       "      <td>19:00:00.000</td>\n",
       "      <td>Europe - UEFA Euro</td>\n",
       "      <td>2024</td>\n",
       "      <td>Netherlands</td>\n",
       "      <td>Austria</td>\n",
       "      <td>2</td>\n",
       "      <td>3</td>\n",
       "      <td>available</td>\n",
       "      <td>...</td>\n",
       "      <td>2024-07-11T13:25:37.289456</td>\n",
       "      <td>3</td>\n",
       "      <td>Group Stage</td>\n",
       "      <td>Olympiastadion Berlin</td>\n",
       "      <td>Ivan Kružliak</td>\n",
       "      <td>Ronald Koeman</td>\n",
       "      <td>Ralf Rangnick</td>\n",
       "      <td>1.1.0</td>\n",
       "      <td>2</td>\n",
       "      <td>2</td>\n",
       "    </tr>\n",
       "    <tr>\n",
       "      <th>22</th>\n",
       "      <td>3930173</td>\n",
       "      <td>2024-06-21</td>\n",
       "      <td>22:00:00.000</td>\n",
       "      <td>Europe - UEFA Euro</td>\n",
       "      <td>2024</td>\n",
       "      <td>Netherlands</td>\n",
       "      <td>France</td>\n",
       "      <td>0</td>\n",
       "      <td>0</td>\n",
       "      <td>available</td>\n",
       "      <td>...</td>\n",
       "      <td>2024-07-12T19:39:43.381031</td>\n",
       "      <td>2</td>\n",
       "      <td>Group Stage</td>\n",
       "      <td>Trainingszentrum RB Leipzig Platz 1</td>\n",
       "      <td>Anthony Taylor</td>\n",
       "      <td>Ronald Koeman</td>\n",
       "      <td>Didier Deschamps</td>\n",
       "      <td>1.1.0</td>\n",
       "      <td>2</td>\n",
       "      <td>2</td>\n",
       "    </tr>\n",
       "    <tr>\n",
       "      <th>29</th>\n",
       "      <td>3938637</td>\n",
       "      <td>2024-06-16</td>\n",
       "      <td>16:00:00.000</td>\n",
       "      <td>Europe - UEFA Euro</td>\n",
       "      <td>2024</td>\n",
       "      <td>Poland</td>\n",
       "      <td>Netherlands</td>\n",
       "      <td>1</td>\n",
       "      <td>2</td>\n",
       "      <td>available</td>\n",
       "      <td>...</td>\n",
       "      <td>2024-07-12T03:39:53.010211</td>\n",
       "      <td>1</td>\n",
       "      <td>Group Stage</td>\n",
       "      <td>Volksparkstadion</td>\n",
       "      <td>Artur Manuel Ribeiro Soares Dias</td>\n",
       "      <td>Michał Probierz</td>\n",
       "      <td>Ronald Koeman</td>\n",
       "      <td>1.1.0</td>\n",
       "      <td>2</td>\n",
       "      <td>2</td>\n",
       "    </tr>\n",
       "  </tbody>\n",
       "</table>\n",
       "<p>6 rows × 22 columns</p>\n",
       "</div>"
      ],
      "text/plain": [
       "    match_id  match_date      kick_off         competition season  \\\n",
       "0    3942819  2024-07-10  22:00:00.000  Europe - UEFA Euro   2024   \n",
       "3    3942382  2024-07-06  22:00:00.000  Europe - UEFA Euro   2024   \n",
       "12   3941021  2024-07-02  19:00:00.000  Europe - UEFA Euro   2024   \n",
       "5    3930180  2024-06-25  19:00:00.000  Europe - UEFA Euro   2024   \n",
       "22   3930173  2024-06-21  22:00:00.000  Europe - UEFA Euro   2024   \n",
       "29   3938637  2024-06-16  16:00:00.000  Europe - UEFA Euro   2024   \n",
       "\n",
       "      home_team    away_team  home_score  away_score match_status  ...  \\\n",
       "0   Netherlands      England           1           2    available  ...   \n",
       "3   Netherlands       Turkey           2           1    available  ...   \n",
       "12      Romania  Netherlands           0           3    available  ...   \n",
       "5   Netherlands      Austria           2           3    available  ...   \n",
       "22  Netherlands       France           0           0    available  ...   \n",
       "29       Poland  Netherlands           1           2    available  ...   \n",
       "\n",
       "              last_updated_360 match_week competition_stage  \\\n",
       "0   2024-07-15T07:57:36.684453          6       Semi-finals   \n",
       "3   2024-07-10T06:56:35.146850          5    Quarter-finals   \n",
       "12  2024-07-12T23:28:27.122555          4       Round of 16   \n",
       "5   2024-07-11T13:25:37.289456          3       Group Stage   \n",
       "22  2024-07-12T19:39:43.381031          2       Group Stage   \n",
       "29  2024-07-12T03:39:53.010211          1       Group Stage   \n",
       "\n",
       "                                stadium                           referee  \\\n",
       "0                     Signal-Iduna-Park                      Felix Zwayer   \n",
       "3                 Olympiastadion Berlin                    Clément Turpin   \n",
       "12                        Allianz Arena                      Felix Zwayer   \n",
       "5                 Olympiastadion Berlin                     Ivan Kružliak   \n",
       "22  Trainingszentrum RB Leipzig Platz 1                    Anthony Taylor   \n",
       "29                     Volksparkstadion  Artur Manuel Ribeiro Soares Dias   \n",
       "\n",
       "        home_managers      away_managers data_version shot_fidelity_version  \\\n",
       "0       Ronald Koeman   Gareth Southgate        1.1.0                     2   \n",
       "3       Ronald Koeman  Vincenzo Montella        1.1.0                     2   \n",
       "12  Edward Iordănescu      Ronald Koeman        1.1.0                     2   \n",
       "5       Ronald Koeman      Ralf Rangnick        1.1.0                     2   \n",
       "22      Ronald Koeman   Didier Deschamps        1.1.0                     2   \n",
       "29    Michał Probierz      Ronald Koeman        1.1.0                     2   \n",
       "\n",
       "   xy_fidelity_version  \n",
       "0                    2  \n",
       "3                    2  \n",
       "12                   2  \n",
       "5                    2  \n",
       "22                   2  \n",
       "29                   2  \n",
       "\n",
       "[6 rows x 22 columns]"
      ]
     },
     "execution_count": 202,
     "metadata": {},
     "output_type": "execute_result"
    }
   ],
   "source": [
    "team_matches"
   ]
  },
  {
   "cell_type": "markdown",
   "id": "294ed546",
   "metadata": {},
   "source": [
    "### Eventos da partida"
   ]
  },
  {
   "cell_type": "code",
   "execution_count": 203,
   "id": "64bcfd0a",
   "metadata": {},
   "outputs": [],
   "source": [
    "# eventos da partida Holanda x Inglaterra\n",
    "match = sb.events(match_id=3942819)\n",
    "\n",
    "# função para tratar eventos da partida\n",
    "def split_locations(df):\n",
    "    df[['x', 'y']] = df['location'].apply(pd.Series)\n",
    "    df[['pass_end_x', 'pass_end_y']] = df['pass_end_location'].apply(pd.Series) # separar ponto final dos passes\n",
    "    df[['carry_end_x', 'carry_end_y']] = df['carry_end_location'].apply(pd.Series) # separar ponto final das conduções\n",
    "    return df"
   ]
  },
  {
   "cell_type": "code",
   "execution_count": 204,
   "id": "5bbad2c2",
   "metadata": {},
   "outputs": [],
   "source": [
    "match_events = split_locations(match)"
   ]
  },
  {
   "cell_type": "code",
   "execution_count": 205,
   "id": "05786f8c",
   "metadata": {},
   "outputs": [
    {
     "data": {
      "text/plain": [
       "Index(['50_50', 'bad_behaviour_card', 'ball_receipt_outcome',\n",
       "       'block_deflection', 'block_save_block', 'carry_end_location',\n",
       "       'clearance_aerial_won', 'clearance_body_part', 'clearance_head',\n",
       "       'clearance_left_foot', 'clearance_right_foot', 'counterpress',\n",
       "       'dribble_outcome', 'duel_outcome', 'duel_type', 'duration',\n",
       "       'foul_committed_advantage', 'foul_committed_card',\n",
       "       'foul_committed_penalty', 'foul_won_advantage', 'foul_won_defensive',\n",
       "       'foul_won_penalty', 'goalkeeper_body_part', 'goalkeeper_end_location',\n",
       "       'goalkeeper_outcome', 'goalkeeper_position', 'goalkeeper_punched_out',\n",
       "       'goalkeeper_technique', 'goalkeeper_type', 'id', 'index',\n",
       "       'injury_stoppage_in_chain', 'interception_outcome', 'location',\n",
       "       'match_id', 'minute', 'off_camera', 'out', 'pass_aerial_won',\n",
       "       'pass_angle', 'pass_assisted_shot_id', 'pass_body_part', 'pass_cross',\n",
       "       'pass_cut_back', 'pass_deflected', 'pass_end_location',\n",
       "       'pass_goal_assist', 'pass_height', 'pass_length', 'pass_outcome',\n",
       "       'pass_outswinging', 'pass_recipient', 'pass_recipient_id',\n",
       "       'pass_shot_assist', 'pass_switch', 'pass_technique',\n",
       "       'pass_through_ball', 'pass_type', 'period', 'play_pattern', 'player',\n",
       "       'player_id', 'position', 'possession', 'possession_team',\n",
       "       'possession_team_id', 'related_events', 'second', 'shot_aerial_won',\n",
       "       'shot_body_part', 'shot_deflected', 'shot_end_location',\n",
       "       'shot_first_time', 'shot_freeze_frame', 'shot_key_pass_id',\n",
       "       'shot_outcome', 'shot_statsbomb_xg', 'shot_technique', 'shot_type',\n",
       "       'substitution_outcome', 'substitution_outcome_id',\n",
       "       'substitution_replacement', 'substitution_replacement_id', 'tactics',\n",
       "       'team', 'team_id', 'timestamp', 'type', 'under_pressure', 'x', 'y',\n",
       "       'pass_end_x', 'pass_end_y', 'carry_end_x', 'carry_end_y'],\n",
       "      dtype='object')"
      ]
     },
     "execution_count": 205,
     "metadata": {},
     "output_type": "execute_result"
    }
   ],
   "source": [
    "match_events.columns"
   ]
  },
  {
   "cell_type": "code",
   "execution_count": 206,
   "id": "11dfce65",
   "metadata": {},
   "outputs": [],
   "source": [
    "# Search columns names\n",
    "expression = 'pass'\n",
    "passes_columns = list(filter(lambda x: expression in x.lower(), match_events.columns))"
   ]
  },
  {
   "cell_type": "code",
   "execution_count": 207,
   "id": "b7086a68",
   "metadata": {},
   "outputs": [],
   "source": [
    "teste = match_events.apply(lambda x: expression in x)"
   ]
  },
  {
   "cell_type": "code",
   "execution_count": 208,
   "id": "5e65b672",
   "metadata": {},
   "outputs": [
    {
     "data": {
      "text/plain": [
       "50_50                   False\n",
       "bad_behaviour_card      False\n",
       "ball_receipt_outcome    False\n",
       "block_deflection        False\n",
       "block_save_block        False\n",
       "                        ...  \n",
       "y                       False\n",
       "pass_end_x              False\n",
       "pass_end_y              False\n",
       "carry_end_x             False\n",
       "carry_end_y             False\n",
       "Length: 95, dtype: bool"
      ]
     },
     "execution_count": 208,
     "metadata": {},
     "output_type": "execute_result"
    }
   ],
   "source": [
    "teste"
   ]
  },
  {
   "cell_type": "code",
   "execution_count": 209,
   "id": "3463c9cd",
   "metadata": {},
   "outputs": [
    {
     "data": {
      "text/plain": [
       "['pass_aerial_won',\n",
       " 'pass_angle',\n",
       " 'pass_assisted_shot_id',\n",
       " 'pass_body_part',\n",
       " 'pass_cross',\n",
       " 'pass_cut_back',\n",
       " 'pass_deflected',\n",
       " 'pass_end_location',\n",
       " 'pass_goal_assist',\n",
       " 'pass_height',\n",
       " 'pass_length',\n",
       " 'pass_outcome',\n",
       " 'pass_outswinging',\n",
       " 'pass_recipient',\n",
       " 'pass_recipient_id',\n",
       " 'pass_shot_assist',\n",
       " 'pass_switch',\n",
       " 'pass_technique',\n",
       " 'pass_through_ball',\n",
       " 'pass_type',\n",
       " 'shot_key_pass_id',\n",
       " 'pass_end_x',\n",
       " 'pass_end_y']"
      ]
     },
     "execution_count": 209,
     "metadata": {},
     "output_type": "execute_result"
    }
   ],
   "source": [
    "passes_columns"
   ]
  },
  {
   "cell_type": "code",
   "execution_count": 210,
   "id": "bc77433a",
   "metadata": {},
   "outputs": [
    {
     "data": {
      "text/plain": [
       "array([nan, True], dtype=object)"
      ]
     },
     "execution_count": 210,
     "metadata": {},
     "output_type": "execute_result"
    }
   ],
   "source": [
    "match_events['pass_switch'].unique()"
   ]
  },
  {
   "cell_type": "markdown",
   "id": "e8564dfb",
   "metadata": {},
   "source": [
    "### Agregações de eventos dos jogadores"
   ]
  },
  {
   "cell_type": "code",
   "execution_count": 211,
   "id": "f91df717",
   "metadata": {},
   "outputs": [
    {
     "data": {
      "text/html": [
       "<div>\n",
       "<style scoped>\n",
       "    .dataframe tbody tr th:only-of-type {\n",
       "        vertical-align: middle;\n",
       "    }\n",
       "\n",
       "    .dataframe tbody tr th {\n",
       "        vertical-align: top;\n",
       "    }\n",
       "\n",
       "    .dataframe thead th {\n",
       "        text-align: right;\n",
       "    }\n",
       "</style>\n",
       "<table border=\"1\" class=\"dataframe\">\n",
       "  <thead>\n",
       "    <tr style=\"text-align: right;\">\n",
       "      <th></th>\n",
       "      <th>50_50</th>\n",
       "      <th>bad_behaviour_card</th>\n",
       "      <th>ball_receipt_outcome</th>\n",
       "      <th>block_deflection</th>\n",
       "      <th>block_save_block</th>\n",
       "      <th>carry_end_location</th>\n",
       "      <th>clearance_aerial_won</th>\n",
       "      <th>clearance_body_part</th>\n",
       "      <th>clearance_head</th>\n",
       "      <th>clearance_left_foot</th>\n",
       "      <th>...</th>\n",
       "      <th>team_id</th>\n",
       "      <th>timestamp</th>\n",
       "      <th>type</th>\n",
       "      <th>under_pressure</th>\n",
       "      <th>x</th>\n",
       "      <th>y</th>\n",
       "      <th>pass_end_x</th>\n",
       "      <th>pass_end_y</th>\n",
       "      <th>carry_end_x</th>\n",
       "      <th>carry_end_y</th>\n",
       "    </tr>\n",
       "  </thead>\n",
       "  <tbody>\n",
       "    <tr>\n",
       "      <th>0</th>\n",
       "      <td>NaN</td>\n",
       "      <td>NaN</td>\n",
       "      <td>NaN</td>\n",
       "      <td>NaN</td>\n",
       "      <td>NaN</td>\n",
       "      <td>NaN</td>\n",
       "      <td>NaN</td>\n",
       "      <td>NaN</td>\n",
       "      <td>NaN</td>\n",
       "      <td>NaN</td>\n",
       "      <td>...</td>\n",
       "      <td>941</td>\n",
       "      <td>00:00:00.000</td>\n",
       "      <td>Starting XI</td>\n",
       "      <td>NaN</td>\n",
       "      <td>NaN</td>\n",
       "      <td>NaN</td>\n",
       "      <td>NaN</td>\n",
       "      <td>NaN</td>\n",
       "      <td>NaN</td>\n",
       "      <td>NaN</td>\n",
       "    </tr>\n",
       "    <tr>\n",
       "      <th>1</th>\n",
       "      <td>NaN</td>\n",
       "      <td>NaN</td>\n",
       "      <td>NaN</td>\n",
       "      <td>NaN</td>\n",
       "      <td>NaN</td>\n",
       "      <td>NaN</td>\n",
       "      <td>NaN</td>\n",
       "      <td>NaN</td>\n",
       "      <td>NaN</td>\n",
       "      <td>NaN</td>\n",
       "      <td>...</td>\n",
       "      <td>768</td>\n",
       "      <td>00:00:00.000</td>\n",
       "      <td>Starting XI</td>\n",
       "      <td>NaN</td>\n",
       "      <td>NaN</td>\n",
       "      <td>NaN</td>\n",
       "      <td>NaN</td>\n",
       "      <td>NaN</td>\n",
       "      <td>NaN</td>\n",
       "      <td>NaN</td>\n",
       "    </tr>\n",
       "    <tr>\n",
       "      <th>2</th>\n",
       "      <td>NaN</td>\n",
       "      <td>NaN</td>\n",
       "      <td>NaN</td>\n",
       "      <td>NaN</td>\n",
       "      <td>NaN</td>\n",
       "      <td>NaN</td>\n",
       "      <td>NaN</td>\n",
       "      <td>NaN</td>\n",
       "      <td>NaN</td>\n",
       "      <td>NaN</td>\n",
       "      <td>...</td>\n",
       "      <td>941</td>\n",
       "      <td>00:00:00.000</td>\n",
       "      <td>Half Start</td>\n",
       "      <td>NaN</td>\n",
       "      <td>NaN</td>\n",
       "      <td>NaN</td>\n",
       "      <td>NaN</td>\n",
       "      <td>NaN</td>\n",
       "      <td>NaN</td>\n",
       "      <td>NaN</td>\n",
       "    </tr>\n",
       "    <tr>\n",
       "      <th>3</th>\n",
       "      <td>NaN</td>\n",
       "      <td>NaN</td>\n",
       "      <td>NaN</td>\n",
       "      <td>NaN</td>\n",
       "      <td>NaN</td>\n",
       "      <td>NaN</td>\n",
       "      <td>NaN</td>\n",
       "      <td>NaN</td>\n",
       "      <td>NaN</td>\n",
       "      <td>NaN</td>\n",
       "      <td>...</td>\n",
       "      <td>768</td>\n",
       "      <td>00:00:00.000</td>\n",
       "      <td>Half Start</td>\n",
       "      <td>NaN</td>\n",
       "      <td>NaN</td>\n",
       "      <td>NaN</td>\n",
       "      <td>NaN</td>\n",
       "      <td>NaN</td>\n",
       "      <td>NaN</td>\n",
       "      <td>NaN</td>\n",
       "    </tr>\n",
       "    <tr>\n",
       "      <th>4</th>\n",
       "      <td>NaN</td>\n",
       "      <td>NaN</td>\n",
       "      <td>NaN</td>\n",
       "      <td>NaN</td>\n",
       "      <td>NaN</td>\n",
       "      <td>NaN</td>\n",
       "      <td>NaN</td>\n",
       "      <td>NaN</td>\n",
       "      <td>NaN</td>\n",
       "      <td>NaN</td>\n",
       "      <td>...</td>\n",
       "      <td>941</td>\n",
       "      <td>00:00:00.000</td>\n",
       "      <td>Half Start</td>\n",
       "      <td>NaN</td>\n",
       "      <td>NaN</td>\n",
       "      <td>NaN</td>\n",
       "      <td>NaN</td>\n",
       "      <td>NaN</td>\n",
       "      <td>NaN</td>\n",
       "      <td>NaN</td>\n",
       "    </tr>\n",
       "    <tr>\n",
       "      <th>...</th>\n",
       "      <td>...</td>\n",
       "      <td>...</td>\n",
       "      <td>...</td>\n",
       "      <td>...</td>\n",
       "      <td>...</td>\n",
       "      <td>...</td>\n",
       "      <td>...</td>\n",
       "      <td>...</td>\n",
       "      <td>...</td>\n",
       "      <td>...</td>\n",
       "      <td>...</td>\n",
       "      <td>...</td>\n",
       "      <td>...</td>\n",
       "      <td>...</td>\n",
       "      <td>...</td>\n",
       "      <td>...</td>\n",
       "      <td>...</td>\n",
       "      <td>...</td>\n",
       "      <td>...</td>\n",
       "      <td>...</td>\n",
       "      <td>...</td>\n",
       "    </tr>\n",
       "    <tr>\n",
       "      <th>3480</th>\n",
       "      <td>NaN</td>\n",
       "      <td>NaN</td>\n",
       "      <td>NaN</td>\n",
       "      <td>NaN</td>\n",
       "      <td>NaN</td>\n",
       "      <td>NaN</td>\n",
       "      <td>NaN</td>\n",
       "      <td>NaN</td>\n",
       "      <td>NaN</td>\n",
       "      <td>NaN</td>\n",
       "      <td>...</td>\n",
       "      <td>941</td>\n",
       "      <td>00:50:09.942</td>\n",
       "      <td>Half End</td>\n",
       "      <td>NaN</td>\n",
       "      <td>NaN</td>\n",
       "      <td>NaN</td>\n",
       "      <td>NaN</td>\n",
       "      <td>NaN</td>\n",
       "      <td>NaN</td>\n",
       "      <td>NaN</td>\n",
       "    </tr>\n",
       "    <tr>\n",
       "      <th>3481</th>\n",
       "      <td>NaN</td>\n",
       "      <td>NaN</td>\n",
       "      <td>NaN</td>\n",
       "      <td>NaN</td>\n",
       "      <td>NaN</td>\n",
       "      <td>NaN</td>\n",
       "      <td>NaN</td>\n",
       "      <td>NaN</td>\n",
       "      <td>NaN</td>\n",
       "      <td>NaN</td>\n",
       "      <td>...</td>\n",
       "      <td>768</td>\n",
       "      <td>00:50:09.942</td>\n",
       "      <td>Half End</td>\n",
       "      <td>NaN</td>\n",
       "      <td>NaN</td>\n",
       "      <td>NaN</td>\n",
       "      <td>NaN</td>\n",
       "      <td>NaN</td>\n",
       "      <td>NaN</td>\n",
       "      <td>NaN</td>\n",
       "    </tr>\n",
       "    <tr>\n",
       "      <th>3482</th>\n",
       "      <td>NaN</td>\n",
       "      <td>Yellow Card</td>\n",
       "      <td>NaN</td>\n",
       "      <td>NaN</td>\n",
       "      <td>NaN</td>\n",
       "      <td>NaN</td>\n",
       "      <td>NaN</td>\n",
       "      <td>NaN</td>\n",
       "      <td>NaN</td>\n",
       "      <td>NaN</td>\n",
       "      <td>...</td>\n",
       "      <td>941</td>\n",
       "      <td>00:41:26.052</td>\n",
       "      <td>Bad Behaviour</td>\n",
       "      <td>NaN</td>\n",
       "      <td>NaN</td>\n",
       "      <td>NaN</td>\n",
       "      <td>NaN</td>\n",
       "      <td>NaN</td>\n",
       "      <td>NaN</td>\n",
       "      <td>NaN</td>\n",
       "    </tr>\n",
       "    <tr>\n",
       "      <th>3483</th>\n",
       "      <td>NaN</td>\n",
       "      <td>Yellow Card</td>\n",
       "      <td>NaN</td>\n",
       "      <td>NaN</td>\n",
       "      <td>NaN</td>\n",
       "      <td>NaN</td>\n",
       "      <td>NaN</td>\n",
       "      <td>NaN</td>\n",
       "      <td>NaN</td>\n",
       "      <td>NaN</td>\n",
       "      <td>...</td>\n",
       "      <td>941</td>\n",
       "      <td>00:45:18.606</td>\n",
       "      <td>Bad Behaviour</td>\n",
       "      <td>NaN</td>\n",
       "      <td>NaN</td>\n",
       "      <td>NaN</td>\n",
       "      <td>NaN</td>\n",
       "      <td>NaN</td>\n",
       "      <td>NaN</td>\n",
       "      <td>NaN</td>\n",
       "    </tr>\n",
       "    <tr>\n",
       "      <th>3484</th>\n",
       "      <td>NaN</td>\n",
       "      <td>Yellow Card</td>\n",
       "      <td>NaN</td>\n",
       "      <td>NaN</td>\n",
       "      <td>NaN</td>\n",
       "      <td>NaN</td>\n",
       "      <td>NaN</td>\n",
       "      <td>NaN</td>\n",
       "      <td>NaN</td>\n",
       "      <td>NaN</td>\n",
       "      <td>...</td>\n",
       "      <td>768</td>\n",
       "      <td>00:48:41.477</td>\n",
       "      <td>Bad Behaviour</td>\n",
       "      <td>NaN</td>\n",
       "      <td>NaN</td>\n",
       "      <td>NaN</td>\n",
       "      <td>NaN</td>\n",
       "      <td>NaN</td>\n",
       "      <td>NaN</td>\n",
       "      <td>NaN</td>\n",
       "    </tr>\n",
       "  </tbody>\n",
       "</table>\n",
       "<p>3485 rows × 95 columns</p>\n",
       "</div>"
      ],
      "text/plain": [
       "     50_50 bad_behaviour_card ball_receipt_outcome block_deflection  \\\n",
       "0      NaN                NaN                  NaN              NaN   \n",
       "1      NaN                NaN                  NaN              NaN   \n",
       "2      NaN                NaN                  NaN              NaN   \n",
       "3      NaN                NaN                  NaN              NaN   \n",
       "4      NaN                NaN                  NaN              NaN   \n",
       "...    ...                ...                  ...              ...   \n",
       "3480   NaN                NaN                  NaN              NaN   \n",
       "3481   NaN                NaN                  NaN              NaN   \n",
       "3482   NaN        Yellow Card                  NaN              NaN   \n",
       "3483   NaN        Yellow Card                  NaN              NaN   \n",
       "3484   NaN        Yellow Card                  NaN              NaN   \n",
       "\n",
       "     block_save_block carry_end_location clearance_aerial_won  \\\n",
       "0                 NaN                NaN                  NaN   \n",
       "1                 NaN                NaN                  NaN   \n",
       "2                 NaN                NaN                  NaN   \n",
       "3                 NaN                NaN                  NaN   \n",
       "4                 NaN                NaN                  NaN   \n",
       "...               ...                ...                  ...   \n",
       "3480              NaN                NaN                  NaN   \n",
       "3481              NaN                NaN                  NaN   \n",
       "3482              NaN                NaN                  NaN   \n",
       "3483              NaN                NaN                  NaN   \n",
       "3484              NaN                NaN                  NaN   \n",
       "\n",
       "     clearance_body_part clearance_head clearance_left_foot  ... team_id  \\\n",
       "0                    NaN            NaN                 NaN  ...     941   \n",
       "1                    NaN            NaN                 NaN  ...     768   \n",
       "2                    NaN            NaN                 NaN  ...     941   \n",
       "3                    NaN            NaN                 NaN  ...     768   \n",
       "4                    NaN            NaN                 NaN  ...     941   \n",
       "...                  ...            ...                 ...  ...     ...   \n",
       "3480                 NaN            NaN                 NaN  ...     941   \n",
       "3481                 NaN            NaN                 NaN  ...     768   \n",
       "3482                 NaN            NaN                 NaN  ...     941   \n",
       "3483                 NaN            NaN                 NaN  ...     941   \n",
       "3484                 NaN            NaN                 NaN  ...     768   \n",
       "\n",
       "         timestamp           type under_pressure   x   y pass_end_x  \\\n",
       "0     00:00:00.000    Starting XI            NaN NaN NaN        NaN   \n",
       "1     00:00:00.000    Starting XI            NaN NaN NaN        NaN   \n",
       "2     00:00:00.000     Half Start            NaN NaN NaN        NaN   \n",
       "3     00:00:00.000     Half Start            NaN NaN NaN        NaN   \n",
       "4     00:00:00.000     Half Start            NaN NaN NaN        NaN   \n",
       "...            ...            ...            ...  ..  ..        ...   \n",
       "3480  00:50:09.942       Half End            NaN NaN NaN        NaN   \n",
       "3481  00:50:09.942       Half End            NaN NaN NaN        NaN   \n",
       "3482  00:41:26.052  Bad Behaviour            NaN NaN NaN        NaN   \n",
       "3483  00:45:18.606  Bad Behaviour            NaN NaN NaN        NaN   \n",
       "3484  00:48:41.477  Bad Behaviour            NaN NaN NaN        NaN   \n",
       "\n",
       "     pass_end_y carry_end_x carry_end_y  \n",
       "0           NaN         NaN         NaN  \n",
       "1           NaN         NaN         NaN  \n",
       "2           NaN         NaN         NaN  \n",
       "3           NaN         NaN         NaN  \n",
       "4           NaN         NaN         NaN  \n",
       "...         ...         ...         ...  \n",
       "3480        NaN         NaN         NaN  \n",
       "3481        NaN         NaN         NaN  \n",
       "3482        NaN         NaN         NaN  \n",
       "3483        NaN         NaN         NaN  \n",
       "3484        NaN         NaN         NaN  \n",
       "\n",
       "[3485 rows x 95 columns]"
      ]
     },
     "execution_count": 211,
     "metadata": {},
     "output_type": "execute_result"
    }
   ],
   "source": [
    "match_events"
   ]
  },
  {
   "cell_type": "code",
   "execution_count": 212,
   "id": "ed488f64",
   "metadata": {},
   "outputs": [
    {
     "data": {
      "text/plain": [
       "array(['Netherlands', 'England'], dtype=object)"
      ]
     },
     "execution_count": 212,
     "metadata": {},
     "output_type": "execute_result"
    }
   ],
   "source": [
    "match_events['team'].unique()"
   ]
  },
  {
   "cell_type": "code",
   "execution_count": 213,
   "id": "54a4384a",
   "metadata": {},
   "outputs": [],
   "source": [
    "# Tipos de eventos \n",
    "\n",
    "events_list = list(match_events['type'].unique())"
   ]
  },
  {
   "cell_type": "code",
   "execution_count": 214,
   "id": "5b9a6125",
   "metadata": {},
   "outputs": [
    {
     "data": {
      "text/plain": [
       "['Starting XI',\n",
       " 'Half Start',\n",
       " 'Pass',\n",
       " 'Ball Receipt*',\n",
       " 'Carry',\n",
       " 'Pressure',\n",
       " 'Miscontrol',\n",
       " 'Ball Recovery',\n",
       " 'Foul Committed',\n",
       " 'Foul Won',\n",
       " 'Dribbled Past',\n",
       " 'Dribble',\n",
       " 'Block',\n",
       " 'Interception',\n",
       " 'Duel',\n",
       " 'Goal Keeper',\n",
       " 'Clearance',\n",
       " 'Dispossessed',\n",
       " 'Shot',\n",
       " 'Injury Stoppage',\n",
       " 'Player Off',\n",
       " 'Player On',\n",
       " 'Referee Ball-Drop',\n",
       " '50/50',\n",
       " 'Substitution',\n",
       " 'Tactical Shift',\n",
       " 'Half End',\n",
       " 'Bad Behaviour']"
      ]
     },
     "execution_count": 214,
     "metadata": {},
     "output_type": "execute_result"
    }
   ],
   "source": [
    "events_list"
   ]
  },
  {
   "cell_type": "code",
   "execution_count": 215,
   "id": "cf5ecf20",
   "metadata": {},
   "outputs": [],
   "source": [
    "# Criando uma lista de jogadores da equipe analisada\n",
    "team = \"Netherlands\"\n",
    "\n",
    "players_team = [match_events.query(f'team == \"{team}\"')['player'].unique()]\n",
    "\n",
    "players_team = list(players_team[0][1:])"
   ]
  },
  {
   "cell_type": "code",
   "execution_count": 216,
   "id": "2f2dd0db",
   "metadata": {},
   "outputs": [],
   "source": [
    "# Nome do jogador e tipos de eventos\n",
    "\n",
    "player_name = 'Tijjani Reijnders'\n",
    "events_types = ['Ball Receipt*', 'Pass', 'Dribble', 'Shot', 'Interception', 'Foul Commited', 'Foul Won', 'Miscontrol', 'Block', 'Dispossessed', 'Ball Recovery']\n"
   ]
  },
  {
   "cell_type": "markdown",
   "id": "d989d2d8",
   "metadata": {},
   "source": [
    "Bolas recebidas (Ball Receipt*)"
   ]
  },
  {
   "cell_type": "code",
   "execution_count": 217,
   "id": "19595855",
   "metadata": {},
   "outputs": [
    {
     "data": {
      "text/plain": [
       "36"
      ]
     },
     "execution_count": 217,
     "metadata": {},
     "output_type": "execute_result"
    }
   ],
   "source": [
    "player_ball_rec=match_events[(match_events.player==player_name)&(match_events.type==events_types[0])]\n",
    "\n",
    "ball_rec = int(player_ball_rec.groupby('player').size().reset_index().loc[0, 0])\n",
    "ball_rec"
   ]
  },
  {
   "cell_type": "code",
   "execution_count": 218,
   "id": "0355c054",
   "metadata": {},
   "outputs": [],
   "source": [
    "player_ball_rec=match_events[(match_events.player==player_name)&(match_events.type==events_types[0])]"
   ]
  },
  {
   "cell_type": "code",
   "execution_count": 219,
   "id": "d0c9e10b",
   "metadata": {},
   "outputs": [
    {
     "data": {
      "text/html": [
       "<div>\n",
       "<style scoped>\n",
       "    .dataframe tbody tr th:only-of-type {\n",
       "        vertical-align: middle;\n",
       "    }\n",
       "\n",
       "    .dataframe tbody tr th {\n",
       "        vertical-align: top;\n",
       "    }\n",
       "\n",
       "    .dataframe thead th {\n",
       "        text-align: right;\n",
       "    }\n",
       "</style>\n",
       "<table border=\"1\" class=\"dataframe\">\n",
       "  <thead>\n",
       "    <tr style=\"text-align: right;\">\n",
       "      <th></th>\n",
       "      <th>player</th>\n",
       "      <th>0</th>\n",
       "    </tr>\n",
       "  </thead>\n",
       "  <tbody>\n",
       "    <tr>\n",
       "      <th>0</th>\n",
       "      <td>Tijjani Reijnders</td>\n",
       "      <td>36</td>\n",
       "    </tr>\n",
       "  </tbody>\n",
       "</table>\n",
       "</div>"
      ],
      "text/plain": [
       "              player   0\n",
       "0  Tijjani Reijnders  36"
      ]
     },
     "execution_count": 219,
     "metadata": {},
     "output_type": "execute_result"
    }
   ],
   "source": [
    "ball_rec = (player_ball_rec.groupby('player').size().reset_index())\n",
    "ball_rec"
   ]
  },
  {
   "cell_type": "code",
   "execution_count": 220,
   "id": "cda08295",
   "metadata": {},
   "outputs": [],
   "source": [
    "# player_dict = {'player_name':player_name, f'{events_types[0]}': ball_rec}"
   ]
  },
  {
   "cell_type": "markdown",
   "id": "0563f4f0",
   "metadata": {},
   "source": [
    "Dicionario do jogador"
   ]
  },
  {
   "cell_type": "code",
   "execution_count": 221,
   "id": "46503e5d",
   "metadata": {},
   "outputs": [],
   "source": [
    "player_dict = {'Name':player_name}"
   ]
  },
  {
   "cell_type": "code",
   "execution_count": 222,
   "id": "0042c49e",
   "metadata": {},
   "outputs": [],
   "source": [
    "for event in events_types:\n",
    "    specific_event = match_events[(match_events.player==player_name)&(match_events.type==event)]\n",
    "    try:\n",
    "        data_event = int(specific_event.groupby('player').size().reset_index().loc[0, 0])\n",
    "    except:\n",
    "        data_event = 0\n",
    "    player_dict[event] = data_event\n"
   ]
  },
  {
   "cell_type": "code",
   "execution_count": 223,
   "id": "807d6942",
   "metadata": {},
   "outputs": [
    {
     "data": {
      "text/plain": [
       "{'Name': 'Tijjani Reijnders',\n",
       " 'Ball Receipt*': 36,\n",
       " 'Pass': 40,\n",
       " 'Dribble': 0,\n",
       " 'Shot': 0,\n",
       " 'Interception': 2,\n",
       " 'Foul Commited': 0,\n",
       " 'Foul Won': 1,\n",
       " 'Miscontrol': 0,\n",
       " 'Block': 3,\n",
       " 'Dispossessed': 0,\n",
       " 'Ball Recovery': 4}"
      ]
     },
     "execution_count": 223,
     "metadata": {},
     "output_type": "execute_result"
    }
   ],
   "source": [
    "player_dict"
   ]
  },
  {
   "cell_type": "code",
   "execution_count": 224,
   "id": "538b43a8",
   "metadata": {},
   "outputs": [
    {
     "data": {
      "text/html": [
       "<div>\n",
       "<style scoped>\n",
       "    .dataframe tbody tr th:only-of-type {\n",
       "        vertical-align: middle;\n",
       "    }\n",
       "\n",
       "    .dataframe tbody tr th {\n",
       "        vertical-align: top;\n",
       "    }\n",
       "\n",
       "    .dataframe thead th {\n",
       "        text-align: right;\n",
       "    }\n",
       "</style>\n",
       "<table border=\"1\" class=\"dataframe\">\n",
       "  <thead>\n",
       "    <tr style=\"text-align: right;\">\n",
       "      <th></th>\n",
       "      <th>player</th>\n",
       "      <th>0</th>\n",
       "    </tr>\n",
       "  </thead>\n",
       "  <tbody>\n",
       "    <tr>\n",
       "      <th>0</th>\n",
       "      <td>Harry Kane</td>\n",
       "      <td>1</td>\n",
       "    </tr>\n",
       "    <tr>\n",
       "      <th>1</th>\n",
       "      <td>Ollie Watkins</td>\n",
       "      <td>1</td>\n",
       "    </tr>\n",
       "    <tr>\n",
       "      <th>2</th>\n",
       "      <td>Xavi Simons</td>\n",
       "      <td>1</td>\n",
       "    </tr>\n",
       "  </tbody>\n",
       "</table>\n",
       "</div>"
      ],
      "text/plain": [
       "          player  0\n",
       "0     Harry Kane  1\n",
       "1  Ollie Watkins  1\n",
       "2    Xavi Simons  1"
      ]
     },
     "execution_count": 224,
     "metadata": {},
     "output_type": "execute_result"
    }
   ],
   "source": [
    "# Goals\n",
    "\n",
    "goals_df=match_events[(match_events.type==\"Shot\")&(match_events.shot_outcome==\"Goal\")]\n",
    "goals_df = goals_df.groupby('player').size().reset_index()#.loc[0, 0])\n",
    "goals_df"
   ]
  },
  {
   "cell_type": "code",
   "execution_count": 225,
   "id": "b807db9d",
   "metadata": {},
   "outputs": [
    {
     "data": {
      "text/plain": [
       "{'Name': 'Tijjani Reijnders',\n",
       " 'Ball Receipt*': 36,\n",
       " 'Pass': 40,\n",
       " 'Dribble': 0,\n",
       " 'Shot': 0,\n",
       " 'Interception': 2,\n",
       " 'Foul Commited': 0,\n",
       " 'Foul Won': 1,\n",
       " 'Miscontrol': 0,\n",
       " 'Block': 3,\n",
       " 'Dispossessed': 0,\n",
       " 'Ball Recovery': 4,\n",
       " 'Goals': 0}"
      ]
     },
     "execution_count": 225,
     "metadata": {},
     "output_type": "execute_result"
    }
   ],
   "source": [
    "try:\n",
    "    player_goals = int(goals_df.query(f'player == \"{player_name}\"').reset_index().loc[0,0])\n",
    "except:\n",
    "    player_goals = 0\n",
    "player_dict['Goals'] = player_goals\n",
    "player_dict"
   ]
  },
  {
   "cell_type": "code",
   "execution_count": 226,
   "id": "1f47a394",
   "metadata": {},
   "outputs": [
    {
     "data": {
      "text/plain": [
       "{'name': 'Memphis Depay', 'goals': 0}"
      ]
     },
     "execution_count": 226,
     "metadata": {},
     "output_type": "execute_result"
    }
   ],
   "source": [
    "# Zero goals\n",
    "try:\n",
    "    memphis_goals = int(goals_df.query(f'player == \"Memphis Depay\"').reset_index().loc[0,0])\n",
    "except:\n",
    "    memphis_goals = 0\n",
    "memphis_dict = dict(name = 'Memphis Depay', goals  = memphis_goals)\n",
    "memphis_dict"
   ]
  },
  {
   "cell_type": "code",
   "execution_count": 227,
   "id": "364a0421",
   "metadata": {},
   "outputs": [
    {
     "data": {
      "text/plain": [
       "['Virgil van Dijk',\n",
       " 'Nathan Aké',\n",
       " 'Stefan de Vrij',\n",
       " 'Jerdy Schouten',\n",
       " 'Denzel Dumfries',\n",
       " 'Bart Verbruggen',\n",
       " 'Memphis Depay',\n",
       " 'Xavi Simons',\n",
       " 'Tijjani Reijnders',\n",
       " 'Donyell Malen',\n",
       " 'Cody Mathès Gakpo',\n",
       " 'Joey Veerman',\n",
       " 'Wout Weghorst',\n",
       " 'Joshua Zirkzee',\n",
       " 'Brian Brobbey']"
      ]
     },
     "execution_count": 227,
     "metadata": {},
     "output_type": "execute_result"
    }
   ],
   "source": [
    "players_team"
   ]
  },
  {
   "cell_type": "markdown",
   "id": "67f711cd",
   "metadata": {},
   "source": [
    "Assists"
   ]
  },
  {
   "cell_type": "code",
   "execution_count": 228,
   "id": "525caeaf",
   "metadata": {},
   "outputs": [
    {
     "data": {
      "text/plain": [
       "array([nan, True], dtype=object)"
      ]
     },
     "execution_count": 228,
     "metadata": {},
     "output_type": "execute_result"
    }
   ],
   "source": [
    "match_events['pass_goal_assist'].unique()"
   ]
  },
  {
   "cell_type": "code",
   "execution_count": 229,
   "id": "0222ee9a",
   "metadata": {},
   "outputs": [
    {
     "data": {
      "text/plain": [
       "array([nan, 'Incomplete', 'Pass Offside', 'Out', 'Unknown'], dtype=object)"
      ]
     },
     "execution_count": 229,
     "metadata": {},
     "output_type": "execute_result"
    }
   ],
   "source": [
    "match_events['pass_outcome'].unique()"
   ]
  },
  {
   "cell_type": "code",
   "execution_count": 230,
   "id": "19ba2228",
   "metadata": {},
   "outputs": [
    {
     "data": {
      "text/plain": [
       "{'Name': 'Tijjani Reijnders',\n",
       " 'Ball Receipt*': 36,\n",
       " 'Pass': 40,\n",
       " 'Dribble': 0,\n",
       " 'Shot': 0,\n",
       " 'Interception': 2,\n",
       " 'Foul Commited': 0,\n",
       " 'Foul Won': 1,\n",
       " 'Miscontrol': 0,\n",
       " 'Block': 3,\n",
       " 'Dispossessed': 0,\n",
       " 'Ball Recovery': 4,\n",
       " 'Goals': 0,\n",
       " 'Assists': 0}"
      ]
     },
     "execution_count": 230,
     "metadata": {},
     "output_type": "execute_result"
    }
   ],
   "source": [
    "# Assists\n",
    "\n",
    "assists_df=match_events[(match_events.type==\"Pass\")&(match_events.pass_goal_assist==True)]\n",
    "assists_df = assists_df.groupby('player').size().reset_index()#.loc[0, 0])\n",
    "\n",
    "try:\n",
    "    player_assists = int(assists_df.query(f'player == \"{player_name}\"').reset_index().loc[0,0])\n",
    "except:\n",
    "    player_assists = 0\n",
    "player_dict['Assists'] = player_assists\n",
    "player_dict\n",
    "\n"
   ]
  },
  {
   "cell_type": "markdown",
   "id": "8daa2418",
   "metadata": {},
   "source": [
    "Crosses"
   ]
  },
  {
   "cell_type": "code",
   "execution_count": 231,
   "id": "65bd06f6",
   "metadata": {},
   "outputs": [
    {
     "data": {
      "text/plain": [
       "pass_length\n",
       "10.912378    3\n",
       "14.024621    3\n",
       "11.985408    2\n",
       "10.987721    2\n",
       "14.776333    2\n",
       "            ..\n",
       "19.258764    1\n",
       "43.304157    1\n",
       "20.718350    1\n",
       "15.485800    1\n",
       "17.286121    1\n",
       "Name: count, Length: 1032, dtype: int64"
      ]
     },
     "execution_count": 231,
     "metadata": {},
     "output_type": "execute_result"
    }
   ],
   "source": [
    "match_events['pass_length'].value_counts()\n"
   ]
  },
  {
   "cell_type": "code",
   "execution_count": 232,
   "id": "24210424",
   "metadata": {},
   "outputs": [
    {
     "data": {
      "text/plain": [
       "{'Name': 'Tijjani Reijnders',\n",
       " 'Ball Receipt*': 36,\n",
       " 'Pass': 40,\n",
       " 'Dribble': 0,\n",
       " 'Shot': 0,\n",
       " 'Interception': 2,\n",
       " 'Foul Commited': 0,\n",
       " 'Foul Won': 1,\n",
       " 'Miscontrol': 0,\n",
       " 'Block': 3,\n",
       " 'Dispossessed': 0,\n",
       " 'Ball Recovery': 4,\n",
       " 'Goals': 0,\n",
       " 'Assists': 0,\n",
       " 'Crosses': 0}"
      ]
     },
     "execution_count": 232,
     "metadata": {},
     "output_type": "execute_result"
    }
   ],
   "source": [
    "# Crosses\n",
    "\n",
    "crosses_df=match_events[(match_events.type==\"Pass\")&(match_events.pass_cross==True)]\n",
    "crosses_df = crosses_df.groupby('player').size().reset_index()#.loc[0, 0])\n",
    "\n",
    "try:\n",
    "    player_crosses = int(crosses_df.query(f'player == \"{player_name}\"').reset_index().loc[0,0])\n",
    "except:\n",
    "    player_crosses = 0\n",
    "player_dict['Crosses'] = player_crosses\n",
    "player_dict\n"
   ]
  },
  {
   "cell_type": "code",
   "execution_count": 233,
   "id": "61130a3e",
   "metadata": {},
   "outputs": [
    {
     "data": {
      "text/html": [
       "<div>\n",
       "<style scoped>\n",
       "    .dataframe tbody tr th:only-of-type {\n",
       "        vertical-align: middle;\n",
       "    }\n",
       "\n",
       "    .dataframe tbody tr th {\n",
       "        vertical-align: top;\n",
       "    }\n",
       "\n",
       "    .dataframe thead th {\n",
       "        text-align: right;\n",
       "    }\n",
       "</style>\n",
       "<table border=\"1\" class=\"dataframe\">\n",
       "  <thead>\n",
       "    <tr style=\"text-align: right;\">\n",
       "      <th></th>\n",
       "      <th>player</th>\n",
       "      <th>0</th>\n",
       "    </tr>\n",
       "  </thead>\n",
       "  <tbody>\n",
       "    <tr>\n",
       "      <th>0</th>\n",
       "      <td>Bukayo Saka</td>\n",
       "      <td>2</td>\n",
       "    </tr>\n",
       "    <tr>\n",
       "      <th>1</th>\n",
       "      <td>Cody Mathès Gakpo</td>\n",
       "      <td>4</td>\n",
       "    </tr>\n",
       "    <tr>\n",
       "      <th>2</th>\n",
       "      <td>Declan Rice</td>\n",
       "      <td>1</td>\n",
       "    </tr>\n",
       "    <tr>\n",
       "      <th>3</th>\n",
       "      <td>Harry Kane</td>\n",
       "      <td>2</td>\n",
       "    </tr>\n",
       "    <tr>\n",
       "      <th>4</th>\n",
       "      <td>Joey Veerman</td>\n",
       "      <td>1</td>\n",
       "    </tr>\n",
       "    <tr>\n",
       "      <th>5</th>\n",
       "      <td>Kieran Trippier</td>\n",
       "      <td>2</td>\n",
       "    </tr>\n",
       "    <tr>\n",
       "      <th>6</th>\n",
       "      <td>Kyle Walker</td>\n",
       "      <td>1</td>\n",
       "    </tr>\n",
       "    <tr>\n",
       "      <th>7</th>\n",
       "      <td>Luke Shaw</td>\n",
       "      <td>1</td>\n",
       "    </tr>\n",
       "    <tr>\n",
       "      <th>8</th>\n",
       "      <td>Nathan Aké</td>\n",
       "      <td>1</td>\n",
       "    </tr>\n",
       "    <tr>\n",
       "      <th>9</th>\n",
       "      <td>Phil Foden</td>\n",
       "      <td>1</td>\n",
       "    </tr>\n",
       "  </tbody>\n",
       "</table>\n",
       "</div>"
      ],
      "text/plain": [
       "              player  0\n",
       "0        Bukayo Saka  2\n",
       "1  Cody Mathès Gakpo  4\n",
       "2        Declan Rice  1\n",
       "3         Harry Kane  2\n",
       "4       Joey Veerman  1\n",
       "5    Kieran Trippier  2\n",
       "6        Kyle Walker  1\n",
       "7          Luke Shaw  1\n",
       "8         Nathan Aké  1\n",
       "9         Phil Foden  1"
      ]
     },
     "execution_count": 233,
     "metadata": {},
     "output_type": "execute_result"
    }
   ],
   "source": [
    "crosses_df"
   ]
  },
  {
   "cell_type": "code",
   "execution_count": 234,
   "id": "c69caa90",
   "metadata": {},
   "outputs": [],
   "source": [
    "# Proximo passo: armazenar valores dos eventos de forma a permitir gerar graficos"
   ]
  },
  {
   "cell_type": "markdown",
   "id": "1c0c2513",
   "metadata": {},
   "source": [
    "# Passes para gráfico"
   ]
  },
  {
   "cell_type": "code",
   "execution_count": 235,
   "id": "af23978d",
   "metadata": {},
   "outputs": [],
   "source": [
    "# Passes sem groupby\n",
    "\n",
    "player_passes=match_events[(match_events.type==\"Pass\")&(match_events.player==player_name)&(match_events.pass_outcome.isna())]\n",
    "#passes_df = passes_df.groupby('player').size().reset_index()#.loc[0, 0])"
   ]
  },
  {
   "cell_type": "code",
   "execution_count": 236,
   "id": "6d8603db",
   "metadata": {},
   "outputs": [
    {
     "data": {
      "image/png": "[encoded data removed]",
      "text/plain": [
       "<Figure size 1600x1100 with 1 Axes>"
      ]
     },
     "metadata": {},
     "output_type": "display_data"
    }
   ],
   "source": [
    "# campo\n",
    "pitch = Pitch(pitch_type='statsbomb', pitch_color='white', line_zorder=2, line_color='black')\n",
    "fig, ax = pitch.draw(figsize=(16, 11),constrained_layout=True, tight_layout=False)\n",
    "fig.set_facecolor('white')\n",
    "\n",
    "# passes\n",
    "pass_colour='#FF5F13'\n",
    "pitch.arrows(player_passes.x, player_passes.y,\n",
    "player_passes.pass_end_x, player_passes.pass_end_y, width=3,\n",
    "headwidth=8, headlength=5, color=pass_colour, ax=ax, zorder=2, label = \"Pass\")\n",
    "\n",
    "ax.legend(facecolor='white', handlelength=5, edgecolor='None', fontsize=20, loc='best')\n",
    "ax_title = ax.set_title(f'{player_name} Passes', fontsize=30,color='black')"
   ]
  },
  {
   "cell_type": "markdown",
   "id": "9a626d57",
   "metadata": {},
   "source": [
    "# Progressões e passes no último terço\n"
   ]
  },
  {
   "cell_type": "markdown",
   "id": "34442263",
   "metadata": {},
   "source": [
    "#### Filtrando por passes que começaram foram do último terço e terminaram dentro dele. Passes que foram completados"
   ]
  },
  {
   "cell_type": "code",
   "execution_count": 237,
   "id": "5d5db01d",
   "metadata": {},
   "outputs": [],
   "source": [
    "f3rd_passes=match_events[(match_events.team==team)&(match_events.type==\"Pass\")&(match_events.x<80)&(match_events.pass_end_x>80)&(match_events.pass_outcome.isna())]\n",
    "\n",
    "f3rd_passes_count=f3rd_passes.groupby('player').size().reset_index()\n",
    "\n",
    "f3rd_passes_count.rename(columns={f3rd_passes_count.columns[1]: \"Passes\" }, inplace = True)"
   ]
  },
  {
   "cell_type": "code",
   "execution_count": 238,
   "id": "7a8ebc6a",
   "metadata": {},
   "outputs": [
    {
     "data": {
      "text/html": [
       "<div>\n",
       "<style scoped>\n",
       "    .dataframe tbody tr th:only-of-type {\n",
       "        vertical-align: middle;\n",
       "    }\n",
       "\n",
       "    .dataframe tbody tr th {\n",
       "        vertical-align: top;\n",
       "    }\n",
       "\n",
       "    .dataframe thead th {\n",
       "        text-align: right;\n",
       "    }\n",
       "</style>\n",
       "<table border=\"1\" class=\"dataframe\">\n",
       "  <thead>\n",
       "    <tr style=\"text-align: right;\">\n",
       "      <th></th>\n",
       "      <th>player</th>\n",
       "      <th>Passes</th>\n",
       "    </tr>\n",
       "  </thead>\n",
       "  <tbody>\n",
       "    <tr>\n",
       "      <th>0</th>\n",
       "      <td>Jerdy Schouten</td>\n",
       "      <td>3</td>\n",
       "    </tr>\n",
       "    <tr>\n",
       "      <th>1</th>\n",
       "      <td>Joey Veerman</td>\n",
       "      <td>5</td>\n",
       "    </tr>\n",
       "    <tr>\n",
       "      <th>2</th>\n",
       "      <td>Joshua Zirkzee</td>\n",
       "      <td>1</td>\n",
       "    </tr>\n",
       "    <tr>\n",
       "      <th>3</th>\n",
       "      <td>Nathan Aké</td>\n",
       "      <td>1</td>\n",
       "    </tr>\n",
       "    <tr>\n",
       "      <th>4</th>\n",
       "      <td>Stefan de Vrij</td>\n",
       "      <td>5</td>\n",
       "    </tr>\n",
       "    <tr>\n",
       "      <th>5</th>\n",
       "      <td>Tijjani Reijnders</td>\n",
       "      <td>3</td>\n",
       "    </tr>\n",
       "    <tr>\n",
       "      <th>6</th>\n",
       "      <td>Virgil van Dijk</td>\n",
       "      <td>1</td>\n",
       "    </tr>\n",
       "    <tr>\n",
       "      <th>7</th>\n",
       "      <td>Xavi Simons</td>\n",
       "      <td>2</td>\n",
       "    </tr>\n",
       "  </tbody>\n",
       "</table>\n",
       "</div>"
      ],
      "text/plain": [
       "              player  Passes\n",
       "0     Jerdy Schouten       3\n",
       "1       Joey Veerman       5\n",
       "2     Joshua Zirkzee       1\n",
       "3         Nathan Aké       1\n",
       "4     Stefan de Vrij       5\n",
       "5  Tijjani Reijnders       3\n",
       "6    Virgil van Dijk       1\n",
       "7        Xavi Simons       2"
      ]
     },
     "execution_count": 238,
     "metadata": {},
     "output_type": "execute_result"
    }
   ],
   "source": [
    "f3rd_passes_count"
   ]
  },
  {
   "cell_type": "markdown",
   "id": "0ae13e27",
   "metadata": {},
   "source": [
    "#### Agora, as conduções de bola que começaram fora e terminaram dentro do último terço"
   ]
  },
  {
   "cell_type": "code",
   "execution_count": 239,
   "id": "23a2b084",
   "metadata": {},
   "outputs": [],
   "source": [
    "f3rd_carries=match_events[(match_events.type==\"Carry\")&(match_events.x<80)&(match_events.carry_end_x>80)&(match_events.team==team)]\n",
    "\n",
    "f3rd_carries_count=f3rd_carries.groupby('player').size().reset_index()\n",
    "\n",
    "f3rd_carries_count.rename(columns={f3rd_carries_count.columns[1]: \"Carries\" }, inplace = True)"
   ]
  },
  {
   "cell_type": "code",
   "execution_count": 240,
   "id": "c514b5ed",
   "metadata": {},
   "outputs": [
    {
     "data": {
      "text/html": [
       "<div>\n",
       "<style scoped>\n",
       "    .dataframe tbody tr th:only-of-type {\n",
       "        vertical-align: middle;\n",
       "    }\n",
       "\n",
       "    .dataframe tbody tr th {\n",
       "        vertical-align: top;\n",
       "    }\n",
       "\n",
       "    .dataframe thead th {\n",
       "        text-align: right;\n",
       "    }\n",
       "</style>\n",
       "<table border=\"1\" class=\"dataframe\">\n",
       "  <thead>\n",
       "    <tr style=\"text-align: right;\">\n",
       "      <th></th>\n",
       "      <th>player</th>\n",
       "      <th>Passes</th>\n",
       "      <th>Carries</th>\n",
       "      <th>Total</th>\n",
       "    </tr>\n",
       "  </thead>\n",
       "  <tbody>\n",
       "    <tr>\n",
       "      <th>9</th>\n",
       "      <td>Xavi Simons</td>\n",
       "      <td>2.0</td>\n",
       "      <td>5.0</td>\n",
       "      <td>7.0</td>\n",
       "    </tr>\n",
       "    <tr>\n",
       "      <th>2</th>\n",
       "      <td>Joey Veerman</td>\n",
       "      <td>5.0</td>\n",
       "      <td>2.0</td>\n",
       "      <td>7.0</td>\n",
       "    </tr>\n",
       "    <tr>\n",
       "      <th>6</th>\n",
       "      <td>Stefan de Vrij</td>\n",
       "      <td>5.0</td>\n",
       "      <td>1.0</td>\n",
       "      <td>6.0</td>\n",
       "    </tr>\n",
       "    <tr>\n",
       "      <th>7</th>\n",
       "      <td>Tijjani Reijnders</td>\n",
       "      <td>3.0</td>\n",
       "      <td>3.0</td>\n",
       "      <td>6.0</td>\n",
       "    </tr>\n",
       "    <tr>\n",
       "      <th>1</th>\n",
       "      <td>Jerdy Schouten</td>\n",
       "      <td>3.0</td>\n",
       "      <td>0.0</td>\n",
       "      <td>3.0</td>\n",
       "    </tr>\n",
       "    <tr>\n",
       "      <th>0</th>\n",
       "      <td>Cody Mathès Gakpo</td>\n",
       "      <td>0.0</td>\n",
       "      <td>2.0</td>\n",
       "      <td>2.0</td>\n",
       "    </tr>\n",
       "    <tr>\n",
       "      <th>5</th>\n",
       "      <td>Nathan Aké</td>\n",
       "      <td>1.0</td>\n",
       "      <td>0.0</td>\n",
       "      <td>1.0</td>\n",
       "    </tr>\n",
       "    <tr>\n",
       "      <th>4</th>\n",
       "      <td>Memphis Depay</td>\n",
       "      <td>0.0</td>\n",
       "      <td>1.0</td>\n",
       "      <td>1.0</td>\n",
       "    </tr>\n",
       "    <tr>\n",
       "      <th>3</th>\n",
       "      <td>Joshua Zirkzee</td>\n",
       "      <td>1.0</td>\n",
       "      <td>0.0</td>\n",
       "      <td>1.0</td>\n",
       "    </tr>\n",
       "    <tr>\n",
       "      <th>8</th>\n",
       "      <td>Virgil van Dijk</td>\n",
       "      <td>1.0</td>\n",
       "      <td>0.0</td>\n",
       "      <td>1.0</td>\n",
       "    </tr>\n",
       "  </tbody>\n",
       "</table>\n",
       "</div>"
      ],
      "text/plain": [
       "              player  Passes  Carries  Total\n",
       "9        Xavi Simons     2.0      5.0    7.0\n",
       "2       Joey Veerman     5.0      2.0    7.0\n",
       "6     Stefan de Vrij     5.0      1.0    6.0\n",
       "7  Tijjani Reijnders     3.0      3.0    6.0\n",
       "1     Jerdy Schouten     3.0      0.0    3.0\n",
       "0  Cody Mathès Gakpo     0.0      2.0    2.0\n",
       "5         Nathan Aké     1.0      0.0    1.0\n",
       "4      Memphis Depay     0.0      1.0    1.0\n",
       "3     Joshua Zirkzee     1.0      0.0    1.0\n",
       "8    Virgil van Dijk     1.0      0.0    1.0"
      ]
     },
     "execution_count": 240,
     "metadata": {},
     "output_type": "execute_result"
    }
   ],
   "source": [
    "# Passes e conduções no mesmo dataframe\n",
    "df_passes_carries = pd.merge(f3rd_passes_count, f3rd_carries_count,\n",
    "                    how=\"outer\", on=[\"player\"])\n",
    "# Preenchendo os valores nulos com 0\n",
    "df_passes_carries = df_passes_carries.fillna(0)\n",
    "\n",
    "# Criando uma coluna com a soma dos passes e conduções\n",
    "df_passes_carries['Total'] = df_passes_carries['Passes'] + df_passes_carries['Carries']\n",
    "\n",
    "\n",
    "df_passes_carries.sort_values(by='Total', ascending=False, inplace=True)\n",
    "\n",
    "df_passes_carries"
   ]
  },
  {
   "cell_type": "markdown",
   "id": "d44393c0",
   "metadata": {},
   "source": [
    "### Gráfico de barras"
   ]
  },
  {
   "cell_type": "code",
   "execution_count": 241,
   "id": "1145946c",
   "metadata": {},
   "outputs": [
    {
     "data": {
      "text/plain": [
       "<Figure size 1500x1500 with 0 Axes>"
      ]
     },
     "metadata": {},
     "output_type": "display_data"
    },
    {
     "data": {
      "image/png": "[encoded data removed]",
      "text/plain": [
       "<Figure size 1000x1000 with 1 Axes>"
      ]
     },
     "metadata": {},
     "output_type": "display_data"
    }
   ],
   "source": [
    "pass_colour='#FF5F13'\n",
    "carry_colour='#3101FF'\n",
    "\n",
    "#sort to get lowest values first (so that it plots in the correct order on our bar chart)\n",
    "df_passes_carries.sort_values(by='Total', ascending=True, inplace=True)\n",
    "\n",
    "#include only relevant columns\n",
    "barchart_df=df_passes_carries[[\"player\", \"Passes\", \"Carries\"]]\n",
    "\n",
    "\n",
    "#create figure and set some style parameters\n",
    "plt.figure(figsize = (15,15))\n",
    "sns.set(rc={'axes.facecolor':'white', 'figure.facecolor':'white'})\n",
    "sns.set_style(\"ticks\")\n",
    "\n",
    "#create bar chart\n",
    "barchart_df.set_index('player').plot(kind='barh', stacked=True,color=[pass_colour, carry_colour],legend=True,figsize=(10,10))\n",
    "\n",
    "#add chart labels and title\n",
    "plt.xlabel(xlabel=\"Progressions into Final 3rd\",fontdict = { 'fontsize': 12, 'weight':'semibold'})\n",
    "plt.ylabel(ylabel=\"Player\",fontdict = { 'fontsize': 12, 'weight':'semibold'})\n",
    "plt.title(f\"{team}: Progressions into Final 3rd\",fontdict = { 'fontsize': 24, 'weight':'bold'})\n",
    "\n",
    "#keep two axes\n",
    "sns.despine(top=True, right=True, left=False, bottom=False)\n",
    "plt.autoscale()\n",
    "plt.show()"
   ]
  },
  {
   "cell_type": "markdown",
   "id": "f95dfe24",
   "metadata": {},
   "source": [
    "### Campo"
   ]
  },
  {
   "cell_type": "code",
   "execution_count": 242,
   "id": "b3cb2f53",
   "metadata": {},
   "outputs": [
    {
     "data": {
      "image/png": "[encoded data removed]",
      "text/plain": [
       "<Figure size 1600x1100 with 1 Axes>"
      ]
     },
     "metadata": {},
     "output_type": "display_data"
    }
   ],
   "source": [
    "\n",
    "player_passes=f3rd_passes[(f3rd_passes.player==player_name)]\n",
    "player_carries=f3rd_carries[(f3rd_carries.player==player_name)]\n",
    "\n",
    "# campo\n",
    "pitch = Pitch(pitch_type='statsbomb', pitch_color='white', line_zorder=2, line_color='black')\n",
    "fig, ax = pitch.draw(figsize=(16, 11),constrained_layout=True, tight_layout=False)\n",
    "fig.set_facecolor('white')\n",
    "\n",
    "# passes\n",
    "pitch.arrows(player_passes.x, player_passes.y,\n",
    "player_passes.pass_end_x, player_passes.pass_end_y, width=3,\n",
    "headwidth=8, headlength=5, color=pass_colour, ax=ax, zorder=2, label = \"Pass\")\n",
    "\n",
    "# conducoes\n",
    "pitch.arrows(player_carries.x, player_carries.y,\n",
    "player_carries.carry_end_x, player_carries.carry_end_y, width=3,\n",
    "headwidth=8, headlength=5, color=carry_colour, ax=ax, zorder=2, label = \"Carry\")\n",
    "\n",
    "\n",
    "ax.legend(facecolor='white', handlelength=5, edgecolor='None', fontsize=20, loc='best')\n",
    "ax_title = ax.set_title(f'{player_name} Progressions into Final 3rd: Euros Final', fontsize=30,color='black')"
   ]
  }
 ],
 "metadata": {
  "kernelspec": {
   "display_name": "venv",
   "language": "python",
   "name": "python3"
  },
  "language_info": {
   "codemirror_mode": {
    "name": "ipython",
    "version": 3
   },
   "file_extension": ".py",
   "mimetype": "text/x-python",
   "name": "python",
   "nbconvert_exporter": "python",
   "pygments_lexer": "ipython3",
   "version": "3.12.3"
  }
 },
 "nbformat": 4,
 "nbformat_minor": 5
}
